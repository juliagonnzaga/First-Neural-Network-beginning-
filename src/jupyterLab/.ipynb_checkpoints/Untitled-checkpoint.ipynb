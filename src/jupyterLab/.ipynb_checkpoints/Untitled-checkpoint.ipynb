{
 "cells": [
  {
   "cell_type": "markdown",
   "metadata": {},
   "source": [
    "# Creating a Perceptron from Scratch \n",
    "\n",
    "The Perceptron is the predecessor of the Multilayer Perceptron (MLP) Artificial Neural Networks. It is a well known, bio-inspired algorithm to do supervised learning. It works as a linear classifier, as we can see in the image:\n",
    "\n",
    "![A simple Perceptron graphic description](\"jupyterLab/imgs/perceptron.png\")"
   ]
  },
  {
   "cell_type": "markdown",
   "metadata": {},
   "source": [
    "Here we have a "
   ]
  },
  {
   "cell_type": "code",
   "execution_count": null,
   "metadata": {},
   "outputs": [],
   "source": [
    "class Perceptron():\n",
    "\n",
    "    def __init__(self, n_input, alpha=0.01, has_bias=True):\n",
    "        self.has_bias = has_bias\n",
    "        self.bias_weight = random.uniform(-1, 1)\n",
    "        self.alpha = alpha\n",
    "        self.weights = []\n",
    "        for i in range(n_input):\n",
    "            self.weights.append(random.uniform(-1, 1))\n",
    "\n",
    "    def classify(self, input):\n",
    "        summation = 0\n",
    "        if(self.has_bias):\n",
    "            summation += self.bias_weight * 1\n",
    "        for i in range(len(self.weights)):\n",
    "            summation += self.weights[i] * input[i]\n",
    "        return self.activation(summation)\n",
    "\n",
    "    def activation(self, value):\n",
    "        if(value < 0):\n",
    "            return 0\n",
    "        else:\n",
    "            return 1\n",
    "\n",
    "    def train(self, input, target):\n",
    "        guess = self.classify(input)\n",
    "        error = target - guess\n",
    "        if(self.has_bias):\n",
    "            self.bias_weight += 1 * error * self.alpha\n",
    "        for i in range(len(self.weights)):\n",
    "            self.weights[i] += input[i] * error * self.alpha\n"
   ]
  }
 ],
 "metadata": {
  "kernelspec": {
   "display_name": "Python 3",
   "language": "python",
   "name": "python3"
  },
  "language_info": {
   "codemirror_mode": {
    "name": "ipython",
    "version": 3
   },
   "file_extension": ".py",
   "mimetype": "text/x-python",
   "name": "python",
   "nbconvert_exporter": "python",
   "pygments_lexer": "ipython3",
   "version": "3.7.9"
  }
 },
 "nbformat": 4,
 "nbformat_minor": 4
}
